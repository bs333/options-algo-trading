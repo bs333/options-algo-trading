{
 "cells": [
  {
   "cell_type": "code",
   "execution_count": null,
   "metadata": {},
   "outputs": [],
   "source": [
    "import numpy as np\n",
    "import pandas as pd\n",
    "from matplotlib import pyplot as plt"
   ]
  },
  {
   "cell_type": "markdown",
   "metadata": {},
   "source": [
    "# Data Cleaning:"
   ]
  },
  {
   "cell_type": "code",
   "execution_count": null,
   "metadata": {},
   "outputs": [],
   "source": [
    "options = pd.read_csv('options_1h.csv')\n",
    "options.head(10)"
   ]
  },
  {
   "cell_type": "code",
   "execution_count": null,
   "metadata": {},
   "outputs": [],
   "source": [
    "options['Mid Open'] = (options['Open Bid'] + options['Open Ask'])/2\n",
    "options['Mid Close'] = (options['Close Bid'] + options['Close Ask'])/2\n",
    "options = options[options['Open'].isna() == False].reset_index(drop=True)"
   ]
  },
  {
   "cell_type": "code",
   "execution_count": null,
   "metadata": {},
   "outputs": [],
   "source": [
    "spot = []\n",
    "for i in range(options.shape[0]):\n",
    "    if options['#RIC'][i] == 'SPY':\n",
    "        val = options['Last'][i]\n",
    "    \n",
    "    spot.append(val)\n",
    "\n",
    "options['Spot'] = spot\n",
    "options = options[options['#RIC'] != 'SPY'].reset_index(drop=True)"
   ]
  },
  {
   "cell_type": "code",
   "execution_count": null,
   "metadata": {},
   "outputs": [],
   "source": [
    "# Credit: Harshil Cherukuri\n",
    "\n",
    "ORD_UPPERCASE_ADJ_CALLS = 64\n",
    "ORD_UPPERCASE_ADJ_PUTS = 76\n",
    "OPRA_NONROOT_LEN = 10\n",
    "\n",
    "# return root,strike,expiry,type - eg. MSFT,157.70,2020-01-17,call\n",
    "def parse_opra_ric(opra_ric: str):\n",
    "    # skip null values - but, why are any of these null?\n",
    "    if pd.isnull(opra_ric):\n",
    "        return (None,None,None,None)\n",
    "\n",
    "    try:\n",
    "        ric, exchange_code = tuple(opra_ric.split(\".\"))\n",
    "    except:\n",
    "        print(opra_ric)\n",
    "        return(None,None,None,None)\n",
    "\n",
    "    if exchange_code not in [\"U\"]:\n",
    "        return (None,None,None,None)\n",
    "\n",
    "    root_len = len(ric) - OPRA_NONROOT_LEN\n",
    "    #root_len = len(ric)\n",
    "    root = ric[:root_len]\n",
    "\n",
    "    expiry_day = ric[-9:-7]\n",
    "    raw_expiry_year = ric[-7:-5]\n",
    "    if int(raw_expiry_year) <= 72:\n",
    "        expiry_year = \"20\"+raw_expiry_year\n",
    "    else:\n",
    "        expiry_year = \"19\"+raw_expiry_year\n",
    "    \n",
    "    raw_expiry_month_put_or_call = ric[-10:-9]\n",
    "    strike_ge_1000 = raw_expiry_month_put_or_call.islower()\n",
    "\n",
    "    if ord(raw_expiry_month_put_or_call.upper()) <= (12 + ORD_UPPERCASE_ADJ_CALLS):\n",
    "        contract_type = \"call\"\n",
    "        expiry_month = str(ord(raw_expiry_month_put_or_call.upper()) - ORD_UPPERCASE_ADJ_CALLS).zfill(2)\n",
    "    else:\n",
    "        contract_type = \"put\"\n",
    "        expiry_month = str(ord(raw_expiry_month_put_or_call.upper()) - ORD_UPPERCASE_ADJ_PUTS).zfill(2)\n",
    "\n",
    "    expiry = f\"{expiry_year}-{expiry_month}-{expiry_day}\"\n",
    "\n",
    "    if strike_ge_1000:\n",
    "        strike = float(ric[-5:]) / 10\n",
    "    else:\n",
    "        strike = float(ric[-5:]) / 100\n",
    "\n",
    "    return [root, strike, expiry, contract_type]"
   ]
  },
  {
   "cell_type": "code",
   "execution_count": null,
   "metadata": {},
   "outputs": [],
   "source": [
    "opt_attr = []\n",
    "for i in range(options.shape[0]):\n",
    "    vals = pd.Series(parse_opra_ric(options['#RIC'][i]))\n",
    "    opt_attr.append(vals)\n",
    "\n",
    "opt_attr = pd.concat(opt_attr, axis=1).transpose()\n",
    "opt_attr.columns = ['Ticker', 'Strike', 'Expiry', 'Opt Type']\n",
    "opt_attr.head()"
   ]
  },
  {
   "cell_type": "code",
   "execution_count": null,
   "metadata": {},
   "outputs": [],
   "source": [
    "optionsData = pd.concat([options, opt_attr], axis=1)\n",
    "optionsData['T'] = [(pd.to_datetime(optionsData['Expiry'][i]) - \\\n",
    "                     pd.to_datetime(optionsData['Date-Time'][i][0:10])).days/252 for i in range(optionsData.shape[0])]\n",
    "optionsData.head(10)"
   ]
  },
  {
   "cell_type": "markdown",
   "metadata": {},
   "source": [
    "# Finding Implied Vol:"
   ]
  },
  {
   "cell_type": "code",
   "execution_count": null,
   "metadata": {},
   "outputs": [],
   "source": [
    "from scipy.stats import norm"
   ]
  },
  {
   "cell_type": "code",
   "execution_count": null,
   "metadata": {},
   "outputs": [],
   "source": [
    "# Returns the Black-Scholes-Merton (European) option price\n",
    "def PV_BlackScholes(S, K, vol, r, t, d, typeof):\n",
    "    # typeof == 'call' or 'put'\n",
    "    d1 = (np.log(S/K) + (r-d+(pow(vol, 2)/2))*t)/(vol*np.sqrt(t))\n",
    "    d2 = d1 - vol*np.sqrt(t)\n",
    "    if typeof == 'call':\n",
    "        return S*np.exp(-d*t)*norm.cdf(d1) - K*np.exp(-r*t)*norm.cdf(d2)\n",
    "    else:\n",
    "        return K*np.exp(-r*t)*norm.cdf(-d2) - S*np.exp(-d*t)*norm.cdf(-d1)"
   ]
  },
  {
   "cell_type": "code",
   "execution_count": null,
   "metadata": {},
   "outputs": [],
   "source": [
    "def newtonImpliedVol(index: int, x0: float, error=0.001):\n",
    "    S = optionsData['Spot'][index]\n",
    "    K = optionsData['Strike'][index]\n",
    "    r = 0.03\n",
    "    d = 0\n",
    "    T = optionsData['T'][index]\n",
    "    typeof = optionsData['Opt Type'][index]\n",
    "    true_price = optionsData['Last'][index]\n",
    "    \n",
    "    while PV_BlackScholes(S, K, x0, r, T, d, typeof) - true_price > error:\n",
    "        f = PV_BlackScholes(S, K, x0, r, T, d, typeof) - true_price\n",
    "        d1 = (np.log(S/K) + (r-d+pow(x0, 2)/2)*T)/(x0*np.sqrt(T))\n",
    "        f_prime = S*np.sqrt(T)*norm.pdf(d1)\n",
    "        x0 = x0 - (f/f_prime)\n",
    "        \n",
    "    return x0"
   ]
  },
  {
   "cell_type": "markdown",
   "metadata": {},
   "source": [
    "# Selection Criteria:"
   ]
  },
  {
   "cell_type": "code",
   "execution_count": null,
   "metadata": {},
   "outputs": [],
   "source": [
    "optTrain = pd.read_csv('df_train_no_nan.csv')  # Credit: Harshil Cherukuri\n",
    "optTrain.index = optTrain['Date-Time']\n",
    "optTrain = optTrain.drop('Date-Time', axis='columns')\n",
    "optTrain.head()"
   ]
  },
  {
   "cell_type": "code",
   "execution_count": null,
   "metadata": {},
   "outputs": [],
   "source": [
    "# Filtering the optionsData df beforehand so that it doesn't have to calculate IV 300,000+ times\n",
    "\n",
    "indices = np.where(optionsData['#RIC'] == optTrain.columns[0])[0]\n",
    "for i in range(1, len(optTrain.columns)):\n",
    "    indices = np.concatenate([indices, np.where(optionsData['#RIC'] == optTrain.columns[i])[0]])\n",
    "\n",
    "indices"
   ]
  },
  {
   "cell_type": "code",
   "execution_count": null,
   "metadata": {},
   "outputs": [],
   "source": [
    "optionsData = optionsData.iloc[indices, :].reset_index(drop=True)\n",
    "optionsData = optionsData.reset_index(drop=True)"
   ]
  },
  {
   "cell_type": "code",
   "execution_count": null,
   "metadata": {},
   "outputs": [],
   "source": [
    "impVol = [newtonImpliedVol(i, 0.75) for i in range(optionsData.shape[0])]\n",
    "optionsData['IV'] = impVol"
   ]
  },
  {
   "cell_type": "code",
   "execution_count": null,
   "metadata": {},
   "outputs": [],
   "source": [
    "# Implied volatility time series\n",
    "iv_ts = optionsData.pivot(index='Date-Time', columns='#RIC', values='IV')\n",
    "iv_ts"
   ]
  },
  {
   "cell_type": "markdown",
   "metadata": {},
   "source": [
    "# Trading Strategies:"
   ]
  },
  {
   "cell_type": "markdown",
   "metadata": {},
   "source": [
    "## Basic Implied Volatility Strategy:\n",
    "\n",
    "For this strategy, at each time step, we are longing the x options with the highest implied vol and shorting the x with the lowest implied vol."
   ]
  },
  {
   "cell_type": "code",
   "execution_count": null,
   "metadata": {},
   "outputs": [],
   "source": [
    "top = 3\n",
    "strategyRet = []\n",
    "for i in range(optTrain.shape[0]):\n",
    "    colIndices = [*np.argsort(iv_ts.iloc[i, :])[0:top]] + [*np.argsort(iv_ts.iloc[i, :])[-top:]]\n",
    "    longShort = np.array(top*[1] + top*[-1]).T\n",
    "    ret = optTrain.iloc[i, colIndices]\n",
    "    strategyRet.append(longShort @ ret)"
   ]
  },
  {
   "cell_type": "code",
   "execution_count": null,
   "metadata": {},
   "outputs": [],
   "source": [
    "ivRet = np.array(strategyRet)\n",
    "# plt.plot(np.cumprod(1+strategyRet)-1)\n",
    "plt.plot(np.cumsum(ivRet))\n",
    "plt.xlabel(\"Time\")\n",
    "plt.ylabel(\"Return\")\n",
    "plt.title(\"Long-Short Implied Vol Strategy\")\n",
    "plt.show()"
   ]
  },
  {
   "cell_type": "markdown",
   "metadata": {},
   "source": [
    "## Dynamic Optimization:"
   ]
  },
  {
   "cell_type": "code",
   "execution_count": null,
   "metadata": {},
   "outputs": [],
   "source": [
    "from cvxopt import matrix, solvers\n",
    "solvers.options[\"show_progress\"] = False"
   ]
  },
  {
   "cell_type": "code",
   "execution_count": null,
   "metadata": {},
   "outputs": [],
   "source": [
    "def dynamicPortfolio(returns, window: int, top: int, min_w=0.01, max_w=0.4, balance=1):\n",
    "        \"\"\"\n",
    "        Arguments:\n",
    "        returns = Data frame or array of time series returns\n",
    "        window = Sliding window which we use to slice the returns array to calculate the covariance matrix\n",
    "        top = Selection criterion at each time step. We select the highest and lowest (top) options by implied vol\n",
    "        min_w = Minimum weight for any particular option\n",
    "        max_w = Maximum weight for any particular option\n",
    "        balance = Portfolio rebalancing frequency\n",
    "        \"\"\"\n",
    "        rows = returns.shape[0]\n",
    "        cols = 2*top\n",
    "        strategyRet = []\n",
    "        for i in range(rows-window):\n",
    "            if i % balance == 0:\n",
    "                colIndices = [*np.argsort(iv_ts.iloc[i, :])[0:top]] + [*np.argsort(iv_ts.iloc[i, :])[-top:]]\n",
    "                subset = returns.iloc[i:(i+window), colIndices]\n",
    "                mu = np.mean(subset, axis=0)\n",
    "                cov = np.array(subset.cov())\n",
    "                Q = matrix(cov)\n",
    "                r = matrix(-mu)\n",
    "                # r = matrix(0.0, (cols, 1))\n",
    "                G = matrix(np.vstack( [-np.identity(cols), np.identity(cols)] ))\n",
    "                h = matrix(np.concatenate( (-min_w*np.ones(cols), max_w*np.ones(cols)) ))\n",
    "                A = matrix(1.0, (1, cols))\n",
    "                b = matrix(1.0)\n",
    "                w = solvers.qp(Q, r, G, h, A, b)['x']\n",
    "                ret = np.array(subset.iloc[0, :]).T @ np.array([*w])\n",
    "                strategyRet.append(ret)\n",
    "        \n",
    "        return strategyRet"
   ]
  },
  {
   "cell_type": "code",
   "execution_count": null,
   "metadata": {},
   "outputs": [],
   "source": [
    "dpRet = dynamicPortfolio(returns=optTrain, window=30, top=3)\n",
    "plt.plot(np.cumsum(dpRet))\n",
    "plt.xlabel(\"Time\")\n",
    "plt.ylabel(\"Return\")\n",
    "plt.title(\"Dynamic Portfolio\")\n",
    "plt.show()"
   ]
  },
  {
   "cell_type": "markdown",
   "metadata": {},
   "source": [
    "## With IV Constraint:"
   ]
  },
  {
   "cell_type": "code",
   "execution_count": null,
   "metadata": {},
   "outputs": [],
   "source": [
    "def ivConstrainedPortfolio(returns, window: int, top: int, max_iv: float, min_w=0.01, max_w=0.4, balance=1):\n",
    "        rows = returns.shape[0]\n",
    "        cols = 2*top\n",
    "        strategyRet = []\n",
    "        for i in range(rows-window):\n",
    "            if i % balance == 0:\n",
    "                colIndices = [*np.argsort(iv_ts.iloc[i, :])[0:top]] + [*np.argsort(iv_ts.iloc[i, :])[-top:]]\n",
    "                subset = returns.iloc[i:(i+window), colIndices]\n",
    "                mu = np.mean(subset, axis=0)\n",
    "                cov = np.array(subset.cov())\n",
    "                Q = matrix(cov)\n",
    "                r = matrix(-mu)\n",
    "                # r = matrix(0.0, (cols, 1))\n",
    "                G = matrix(np.vstack( [np.diag(iv_ts.iloc[i, colIndices]), -np.identity(cols), np.identity(cols)] ))\n",
    "                h = matrix(np.concatenate( (max_iv*np.ones(cols), -min_w*np.ones(cols), max_w*np.ones(cols)) ))\n",
    "                A = matrix(1.0, (1, cols))\n",
    "                b = matrix(1.0)\n",
    "                w = solvers.qp(Q, r, G, h, A, b)['x']\n",
    "                ret = np.array(subset.iloc[0, :]).T @ np.array([*w])\n",
    "                strategyRet.append(ret)\n",
    "        \n",
    "        return strategyRet"
   ]
  },
  {
   "cell_type": "code",
   "execution_count": null,
   "metadata": {},
   "outputs": [],
   "source": [
    "ivcRet = ivConstrainedPortfolio(returns=optTrain, window=30, top=3, max_iv=0.05)\n",
    "plt.plot(np.cumsum(dpRet))\n",
    "plt.plot(np.cumsum(ivcRet))\n",
    "plt.xlabel(\"Time\")\n",
    "plt.ylabel(\"Return\")\n",
    "plt.legend([\"Standard\", \"With IV Constraint\"])\n",
    "plt.title(\"Dynamic Portfolio\")\n",
    "plt.show()"
   ]
  },
  {
   "cell_type": "code",
   "execution_count": null,
   "metadata": {},
   "outputs": [],
   "source": [
    "cumul_ret = [np.cumsum(ivRet)[-1], np.cumsum(dpRet)[-1], np.cumsum(ivcRet)[-1]]\n",
    "avg_returns = np.array([np.mean(ivRet), np.mean(dpRet), np.mean(ivcRet)])\n",
    "vols = np.array([np.std(ivRet), np.std(dpRet), np.std(ivcRet)])\n",
    "sharpe = avg_returns/vols\n",
    "performanceSummary = pd.DataFrame({'Total Return': cumul_ret, 'Avg Period Return': avg_returns, 'Period Volatility': vols, \n",
    "                      'Sharpe Ratio': sharpe}, index=['Long-Short IV Strategy', 'Dynamic Portfolio', 'IV-Constrained'])\n",
    "performanceSummary"
   ]
  },
  {
   "cell_type": "markdown",
   "metadata": {},
   "source": [
    "# Less Liquid Options and Testing Data:"
   ]
  },
  {
   "cell_type": "code",
   "execution_count": null,
   "metadata": {},
   "outputs": [],
   "source": [
    "# Credit for CSV data: Harshil Cherukuri\n",
    "lessLiquid = pd.read_csv('df_train_with_nan.csv')\n",
    "lessLiquid.index = lessLiquid['Date-Time']\n",
    "lessLiquid = lessLiquid.drop('Date-Time', axis='columns')\n",
    "\n",
    "optTest = pd.read_csv('df_test.csv')\n",
    "optTest.index = optTest['Date-Time']\n",
    "optTest = optTest.drop('Date-Time', axis='columns')\n",
    "\n",
    "lessLiquid.head()"
   ]
  },
  {
   "cell_type": "code",
   "execution_count": null,
   "metadata": {},
   "outputs": [],
   "source": [
    "def fillna_avg(column):\n",
    "    is_na = column.isna()\n",
    "    if is_na[0]:\n",
    "        column[0] = 0\n",
    "    \n",
    "    if is_na[is_na.shape[0]-1]:\n",
    "        column[is_na.shape[0]-1] = 0\n",
    "    \n",
    "    for i in range(1, len(is_na)-1):\n",
    "        if is_na[i]:\n",
    "            column[i] = (column[i-1]+column[i+1])/2\n",
    "    \n",
    "    return column"
   ]
  },
  {
   "cell_type": "code",
   "execution_count": null,
   "metadata": {},
   "outputs": [],
   "source": [
    "lessLiquid = lessLiquid.apply(fillna_avg, axis=0)\n",
    "optTest = optTest.iloc[:-3, :].apply(fillna_avg, axis=0)"
   ]
  },
  {
   "cell_type": "markdown",
   "metadata": {},
   "source": [
    "## Basic IV:"
   ]
  },
  {
   "cell_type": "code",
   "execution_count": null,
   "metadata": {},
   "outputs": [],
   "source": [
    "strategyRet = []\n",
    "for i in range(lessLiquid.shape[0]):\n",
    "    colIndices = [*np.argsort(iv_ts.iloc[i, :])[0:top]] + [*np.argsort(iv_ts.iloc[i, :])[-top:]]\n",
    "    longShort = np.array(top*[1] + top*[-1]).T\n",
    "    ret = lessLiquid.iloc[i, colIndices]\n",
    "    strategyRet.append(longShort @ ret)"
   ]
  },
  {
   "cell_type": "code",
   "execution_count": null,
   "metadata": {},
   "outputs": [],
   "source": [
    "testStrategyRet = []\n",
    "for i in range(optTest.shape[0]):\n",
    "    colIndices = [*np.argsort(iv_ts.iloc[i, :])[0:top]] + [*np.argsort(iv_ts.iloc[i, :])[-top:]]\n",
    "    longShort = np.array(top*[1] + top*[-1]).T\n",
    "    ret = optTest.iloc[i, colIndices]\n",
    "    testStrategyRet.append(longShort @ ret)"
   ]
  },
  {
   "cell_type": "code",
   "execution_count": null,
   "metadata": {},
   "outputs": [],
   "source": [
    "ivRet = np.array(strategyRet)\n",
    "plt.plot(np.cumsum(ivRet))\n",
    "plt.xlabel(\"Time\")\n",
    "plt.ylabel(\"Return\")\n",
    "plt.title(\"Long-Short Implied Vol Strategy (Train)\")\n",
    "plt.show()\n",
    "\n",
    "plt.plot(np.cumsum(testStrategyRet))\n",
    "plt.xlabel(\"Time\")\n",
    "plt.ylabel(\"Return\")\n",
    "plt.title(\"Long-Short Implied Vol Strategy (Test)\")\n",
    "plt.show()"
   ]
  },
  {
   "cell_type": "markdown",
   "metadata": {},
   "source": [
    "## Dynamic Portfolio:"
   ]
  },
  {
   "cell_type": "code",
   "execution_count": null,
   "metadata": {},
   "outputs": [],
   "source": [
    "dpRet = dynamicPortfolio(returns=lessLiquid, window=30, top=3)\n",
    "plt.plot(np.cumsum(dpRet))\n",
    "plt.xlabel(\"Time\")\n",
    "plt.ylabel(\"Return\")\n",
    "plt.title(\"Dynamic Portfolio (Train)\")\n",
    "plt.show()\n",
    "\n",
    "testDPRet = dynamicPortfolio(returns=optTest, window=30, top=3)\n",
    "plt.plot(np.cumsum(testDPRet))\n",
    "plt.xlabel(\"Time\")\n",
    "plt.ylabel(\"Return\")\n",
    "plt.title(\"Dynamic Portfolio (Test)\")\n",
    "plt.show()"
   ]
  },
  {
   "cell_type": "markdown",
   "metadata": {},
   "source": [
    "## IV-Constrained Portfolio:"
   ]
  },
  {
   "cell_type": "code",
   "execution_count": null,
   "metadata": {},
   "outputs": [],
   "source": [
    "ivcRet = ivConstrainedPortfolio(returns=lessLiquid, window=30, top=3, max_iv=0.05)\n",
    "plt.plot(np.cumsum(dpRet))\n",
    "plt.plot(np.cumsum(ivcRet))\n",
    "plt.xlabel(\"Time\")\n",
    "plt.ylabel(\"Return\")\n",
    "plt.legend([\"Standard\", \"With IV Constraint\"])\n",
    "plt.title(\"Dynamic Portfolio (Train)\")\n",
    "plt.show()\n",
    "\n",
    "testIVCRet = ivConstrainedPortfolio(returns=optTest, window=30, top=3, max_iv=0.05)\n",
    "plt.plot(np.cumsum(testDPRet))\n",
    "plt.plot(np.cumsum(testIVCRet))\n",
    "plt.xlabel(\"Time\")\n",
    "plt.ylabel(\"Return\")\n",
    "plt.legend([\"Standard\", \"With IV Constraint\"])\n",
    "plt.title(\"Dynamic Portfolio (Test)\")\n",
    "plt.show()"
   ]
  },
  {
   "cell_type": "markdown",
   "metadata": {},
   "source": [
    "## Second Train Data Performance:"
   ]
  },
  {
   "cell_type": "code",
   "execution_count": null,
   "metadata": {},
   "outputs": [],
   "source": [
    "cumul_ret = [np.cumsum(ivRet)[-1], np.cumsum(dpRet)[-1], np.cumsum(ivcRet)[-1]]\n",
    "avg_returns = np.array([np.mean(ivRet), np.mean(dpRet), np.mean(ivcRet)])\n",
    "vols = np.array([np.std(ivRet), np.std(dpRet), np.std(ivcRet)])\n",
    "sharpe = avg_returns/vols\n",
    "performanceSummary = pd.DataFrame({'Total Return': cumul_ret, 'Avg Period Return': avg_returns, 'Period Volatility': vols, \n",
    "                      'Sharpe Ratio': sharpe}, index=['Long-Short IV Strategy', 'Dynamic Portfolio', 'IV-Constrained'])\n",
    "performanceSummary"
   ]
  },
  {
   "cell_type": "markdown",
   "metadata": {},
   "source": [
    "## Testing Data Performance:"
   ]
  },
  {
   "cell_type": "code",
   "execution_count": null,
   "metadata": {},
   "outputs": [],
   "source": [
    "cumul_ret = [np.cumsum(testStrategyRet)[-1], np.cumsum(testDPRet)[-1], np.cumsum(testIVCRet)[-1]]\n",
    "avg_returns = np.array([np.mean(testStrategyRet), np.mean(testDPRet), np.mean(testIVCRet)])\n",
    "vols = np.array([np.std(testStrategyRet), np.std(testDPRet), np.std(testIVCRet)])\n",
    "sharpe = avg_returns/vols\n",
    "performanceSummary = pd.DataFrame({'Total Return': cumul_ret, 'Avg Period Return': avg_returns, 'Period Volatility': vols, \n",
    "                      'Sharpe Ratio': sharpe}, index=['Long-Short IV Strategy', 'Dynamic Portfolio', 'IV-Constrained'])\n",
    "performanceSummary"
   ]
  },
  {
   "cell_type": "code",
   "execution_count": null,
   "metadata": {},
   "outputs": [],
   "source": []
  }
 ],
 "metadata": {
  "kernelspec": {
   "display_name": "Python 3",
   "language": "python",
   "name": "python3"
  },
  "language_info": {
   "codemirror_mode": {
    "name": "ipython",
    "version": 3
   },
   "file_extension": ".py",
   "mimetype": "text/x-python",
   "name": "python",
   "nbconvert_exporter": "python",
   "pygments_lexer": "ipython3",
   "version": "3.8.5"
  }
 },
 "nbformat": 4,
 "nbformat_minor": 4
}
