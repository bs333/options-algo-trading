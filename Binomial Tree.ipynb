{
 "cells": [
  {
   "cell_type": "code",
   "execution_count": null,
   "metadata": {},
   "outputs": [],
   "source": [
    "import numpy as np"
   ]
  },
  {
   "cell_type": "code",
   "execution_count": null,
   "metadata": {},
   "outputs": [],
   "source": [
    "class Option:\n",
    "    \n",
    "    def __init__(self, stock_price, strike, vol, rfr, years):\n",
    "        self.stock_price = stock_price\n",
    "        self.strike = strike\n",
    "        self.vol = vol\n",
    "        self.rfr = rfr\n",
    "        self.years = years"
   ]
  },
  {
   "cell_type": "code",
   "execution_count": null,
   "metadata": {},
   "outputs": [],
   "source": [
    "class BinomialTree:\n",
    "    \n",
    "    def __init__(self, opt: Option, steps: int):\n",
    "        self.opt = opt\n",
    "        self.steps = steps\n",
    "        self.tree = self.opt.stock_price*self.factors()[0]**np.arange(-steps, steps+1, 2)[::-1]\n",
    "        \n",
    "    def factors(self):\n",
    "        steps = self.steps\n",
    "        s = self.opt.vol\n",
    "        t = self.opt.years\n",
    "        up = np.exp(s*np.sqrt(t/steps))\n",
    "        down = 1/up\n",
    "        return up, down\n",
    "    \n",
    "    def probabilities(self):\n",
    "        u, d = self.factors()\n",
    "        steps = self.steps\n",
    "        r = self.opt.rfr\n",
    "        t = self.opt.years\n",
    "        up = (np.exp(r*(t/steps))-d)/(u-d)\n",
    "        down = 1 - up\n",
    "        return np.array([up, down])\n",
    "    \n",
    "    def PV_AMER(self, typeof: str):\n",
    "        K = self.opt.strike\n",
    "        r = self.opt.rfr\n",
    "        T = self.opt.years\n",
    "        steps = self.steps\n",
    "        tree = self.tree\n",
    "        u, d = self.factors()\n",
    "        prob = self.probabilities()[::-1]\n",
    "        \n",
    "        if typeof == 'call':\n",
    "            payoff = np.maximum(self.tree-K, np.zeros(steps+1))\n",
    "        else:\n",
    "            payoff = np.maximum(K-self.tree, np.zeros(steps+1))\n",
    "        \n",
    "        for i in range(steps):\n",
    "            cont_value = np.convolve(payoff, prob, 'valid')*np.exp(-r*(T/steps))\n",
    "            curr_layer = tree[1:]/d\n",
    "            if typeof == 'call':\n",
    "                exer_value = np.maximum(curr_layer-K, np.zeros(steps-i))\n",
    "            else:\n",
    "                exer_value = np.maximum(K-curr_layer, np.zeros(steps-i))\n",
    "            \n",
    "            payoff = np.maximum(cont_value, exer_value)\n",
    "            tree = curr_layer\n",
    "        \n",
    "        return round(payoff[0], 2)"
   ]
  }
 ],
 "metadata": {
  "kernelspec": {
   "display_name": "Python 3",
   "language": "python",
   "name": "python3"
  },
  "language_info": {
   "codemirror_mode": {
    "name": "ipython",
    "version": 3
   },
   "file_extension": ".py",
   "mimetype": "text/x-python",
   "name": "python",
   "nbconvert_exporter": "python",
   "pygments_lexer": "ipython3",
   "version": "3.8.5"
  }
 },
 "nbformat": 4,
 "nbformat_minor": 4
}
